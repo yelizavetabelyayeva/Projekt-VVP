{
 "cells": [
  {
   "cell_type": "markdown",
   "id": "9b07047b",
   "metadata": {},
   "source": [
    "# Vizualizace fraktálů – Mandelbrotova a Juliova množina\n",
    "\n",
    "Tento notebook slouží k výpočtu a vizualizaci dvou typů fraktálů:  \n",
    "- **Mandelbrotovy množiny**  \n",
    "- **Juliovy množiny**\n",
    "\n",
    "Fraktály jsou generovány pomocí iterace komplexní funkce:\n",
    "\n",
    "\\[\n",
    "z_{n+1} = z_n^2 + c\n",
    "\\]\n",
    "\n",
    "Cílem je nejen generovat fraktály, ale také umožnit interaktivní změnu parametrů – například počet iterací nebo komplexní konstantu \\( c \\) (v případě Juliovy množiny).\n"
   ]
  },
  {
   "cell_type": "code",
   "execution_count": null,
   "id": "2feab2a9",
   "metadata": {},
   "outputs": [],
   "source": [
    "# Import knihoven a parametry \n",
    "import numpy as np\n",
    "import matplotlib.pyplot as plt\n",
    "from numba import jit\n",
    "from ipywidgets import interact, FloatSlider, IntSlider, Dropdown\n",
    "from fraktal import generate_mandelbrot, generate_julia\n",
    "\n",
    "# Výchozí rozsah a velikost\n",
    "xmin, xmax = -2.0, 1.0\n",
    "ymin, ymax = -1.5, 1.5\n",
    "width, height = 600, 600\n"
   ]
  },
  {
   "cell_type": "code",
   "execution_count": null,
   "id": "efba674e",
   "metadata": {},
   "outputs": [],
   "source": [
    "# Funkce pro vykreslení Mandelbrotovy množiny\n",
    "def draw_mandelbrot(max_iter: int = 100, cmap: str = 'plasma'):\n",
    "    data = generate_mandelbrot(xmin, xmax, ymin, ymax, width, height, max_iter)\n",
    "    plt.figure(figsize=(6, 6))\n",
    "    plt.imshow(data, extent=(xmin, xmax, ymin, ymax), cmap=cmap, origin='lower')\n",
    "    plt.title(f\"Mandelbrotova množina ({max_iter} iterací)\")\n",
    "    plt.xlabel(\"Re(c)\")\n",
    "    plt.ylabel(\"Im(c)\")\n",
    "    plt.colorbar(label='Počet iterací')\n",
    "    plt.show()\n"
   ]
  },
  {
   "cell_type": "code",
   "execution_count": null,
   "id": "3eb359f6",
   "metadata": {},
   "outputs": [],
   "source": [
    "# Interaktivní výběr pro Mandelbrot\n",
    "interact(\n",
    "    draw_mandelbrot,\n",
    "    max_iter=IntSlider(min=10, max=1000, step=10, value=100),\n",
    "    cmap=Dropdown(options=['plasma', 'viridis', 'inferno', 'magma'], value='plasma')\n",
    ")\n"
   ]
  },
  {
   "cell_type": "code",
   "execution_count": null,
   "id": "cf668d90",
   "metadata": {},
   "outputs": [],
   "source": [
    "# Funkce pro vykreslení Juliovy množiny\n",
    "def draw_julia(c_re: float = -0.8, c_im: float = 0.156, max_iter: int = 100, cmap: str = 'plasma'):\n",
    "    data = generate_julia(\n",
    "        xmin, xmax, ymin, ymax,\n",
    "        width, height, max_iter,\n",
    "        c_re, c_im\n",
    "    )\n",
    "    plt.figure(figsize=(6, 6))\n",
    "    plt.imshow(data, extent=(xmin, xmax, ymin, ymax), cmap=cmap, origin='lower')\n",
    "    plt.title(f\"Juliova množina pro c = {c_re} + {c_im}i\")\n",
    "    plt.xlabel(\"Re(z)\")\n",
    "    plt.ylabel(\"Im(z)\")\n",
    "    plt.colorbar(label='Počet iterací')\n",
    "    plt.show()\n"
   ]
  },
  {
   "cell_type": "code",
   "execution_count": null,
   "id": "6a645526",
   "metadata": {},
   "outputs": [],
   "source": [
    "# Interaktivní výběr pro Julii \n",
    "interact(\n",
    "    draw_julia,\n",
    "    c_re=FloatSlider(min=-1.5, max=1.5, step=0.01, value=-0.8),\n",
    "    c_im=FloatSlider(min=-1.5, max=1.5, step=0.01, value=0.156),\n",
    "    max_iter=IntSlider(min=10, max=1000, step=10, value=100),\n",
    "    cmap=Dropdown(options=['plasma', 'viridis', 'inferno', 'magma'], value='plasma')\n",
    ")\n"
   ]
  },
  {
   "cell_type": "markdown",
   "id": "5fe2788c",
   "metadata": {},
   "source": [
    "## Závěr\n",
    "\n",
    "V tomto notebooku byly vizualizovány dvě slavné fraktální množiny: Mandelbrotova a Juliova.  \n",
    "Byla umožněna interaktivní změna parametrů – počet iterací i komplexní konstanta \\( c \\).  \n",
    "\n",
    "Pomocí knihovny **Numba** jsme výrazně zrychlili výpočet.  \n",
    "Díky **ipywidgets** jsme nabídli přívětivé ovládání pro uživatele bez nutnosti měnit kód.\n"
   ]
  }
 ],
 "metadata": {
  "kernelspec": {
   "display_name": "venv",
   "language": "python",
   "name": "python3"
  },
  "language_info": {
   "codemirror_mode": {
    "name": "ipython",
    "version": 3
   },
   "file_extension": ".py",
   "mimetype": "text/x-python",
   "name": "python",
   "nbconvert_exporter": "python",
   "pygments_lexer": "ipython3",
   "version": "3.12.7"
  }
 },
 "nbformat": 4,
 "nbformat_minor": 5
}
