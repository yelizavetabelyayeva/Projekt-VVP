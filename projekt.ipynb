{
 "cells": [
  {
   "cell_type": "markdown",
   "id": "9b07047b",
   "metadata": {},
   "source": [
    "## Projekt: Vizualizace fraktalu \n",
    "\n",
    "V tomhle projektu ukazuju, jak jsem vytvořila jednoduchý Python program na vizualizaci fraktálů.\n",
    "\n",
    "Jako ukázku jsem si vybrala známou Mandelbrotovu množinu.  \n",
    "Používám knihovny numpy, matplotlib a numba, které pomáhají s výpočtem a zobrazením fraktálu.\n"
   ]
  },
  {
   "cell_type": "code",
   "execution_count": null,
   "id": "9da26649",
   "metadata": {},
   "outputs": [],
   "source": [
    "import numpy as np\n",
    "import matplotlib.pyplot as plt\n",
    "from numba import jit\n"
   ]
  },
  {
   "cell_type": "code",
   "execution_count": null,
   "id": "85ee8a5b",
   "metadata": {},
   "outputs": [],
   "source": [
    "@jit(nopython=True)\n",
    "def generate_mandelbrot(xmin, xmax, ymin, ymax, width, height, max_iter):\n",
    "    image = np.zeros((height, width))\n",
    "    for i in range(height):\n",
    "        for j in range(width):\n",
    "            x0 = xmin + j * (xmax - xmin) / width\n",
    "            y0 = ymin + i * (ymax - ymin) / height\n",
    "            x, y = 0.0, 0.0\n",
    "            iteration = 0\n",
    "            while x * x + y * y <= 4 and iteration < max_iter:\n",
    "                x_new = x * x - y * y + x0\n",
    "                y = 2 * x * y + y0\n",
    "                x = x_new\n",
    "                iteration += 1\n",
    "            image[i, j] = iteration\n",
    "    return image"
   ]
  },
  {
   "cell_type": "code",
   "execution_count": null,
   "id": "6aed1f4e",
   "metadata": {},
   "outputs": [],
   "source": [
    "# Parametry pro výpočet\n",
    "xmin, xmax = -2.0, 1.0\n",
    "ymin, ymax = -1.5, 1.5\n",
    "width, height = 600, 600\n",
    "max_iter = 200\n",
    "\n",
    "# Vygenerování dat\n",
    "data = generate_mandelbrot(xmin, xmax, ymin, ymax, width, height, max_iter)\n",
    "\n",
    "# Zobrazení fraktálu\n",
    "plt.figure(figsize=(6, 6))\n",
    "plt.imshow(data, extent=(xmin, xmax, ymin, ymax), cmap='plasma', origin='lower')\n",
    "plt.title(\"Mandelbrotova množina\")\n",
    "plt.xlabel(\"Re(c)\")\n",
    "plt.ylabel(\"Im(c)\")\n",
    "plt.colorbar(label=\"Počet iterací\")\n",
    "plt.show()"
   ]
  },
  {
   "cell_type": "markdown",
   "id": "a2e13fe7",
   "metadata": {},
   "source": [
    "## Shrnutí\n",
    "\n",
    "Program na generování Mandelbrotovy množiny funguje správně a vykreslí fraktál podle toho, jaké hodnoty si nastavím.\n",
    "\n",
    "Když zvýším počet iterací, fraktál je víc detailní.  \n",
    "Dá se taky měnit barva obrázku nebo velikost okna podle potřeby."
   ]
  }
 ],
 "metadata": {
  "kernelspec": {
   "display_name": "venv",
   "language": "python",
   "name": "python3"
  },
  "language_info": {
   "codemirror_mode": {
    "name": "ipython",
    "version": 3
   },
   "file_extension": ".py",
   "mimetype": "text/x-python",
   "name": "python",
   "nbconvert_exporter": "python",
   "pygments_lexer": "ipython3",
   "version": "3.12.7"
  }
 },
 "nbformat": 4,
 "nbformat_minor": 5
}
